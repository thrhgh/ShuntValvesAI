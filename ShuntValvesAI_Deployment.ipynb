{
  "nbformat": 4,
  "nbformat_minor": 0,
  "metadata": {
    "colab": {
      "name": "Untitled",
      "provenance": []
    },
    "kernelspec": {
      "name": "python3",
      "display_name": "Python 3"
    }
  },
  "cells": [
    {
      "cell_type": "code",
      "metadata": {
        "id": "CxQQum9LWVsz"
      },
      "source": [
        "!pip install -Uqq fastbook\n",
        "\n",
        "from fastbook import *\n",
        "import "
      ],
      "execution_count": null,
      "outputs": []
    },
    {
      "cell_type": "code",
      "metadata": {
        "id": "DxDawzkt5_3u",
        "colab": {
          "base_uri": "https://localhost:8080/"
        },
        "outputId": "45d725d7-fbbc-4435-d641-5eea2001a24c"
      },
      "source": [
        "##mount google drive for imagedata and return number of images\n",
        "from google.colab import drive\n",
        "\n",
        "drive.mount('/content/gdrive', force_remount=True)\n",
        "root_path = 'gdrive/My Drive/'  \n",
        "\n",
        "model = load_learner('/content/gdrive/My Drive/model.pkl')\n"
      ],
      "execution_count": 53,
      "outputs": [
        {
          "output_type": "stream",
          "text": [
            "Mounted at /content/gdrive\n"
          ],
          "name": "stdout"
        }
      ]
    },
    {
      "cell_type": "code",
      "metadata": {
        "id": "RfYyF-CyfZYH"
      },
      "source": [
        ""
      ],
      "execution_count": null,
      "outputs": []
    },
    {
      "cell_type": "markdown",
      "metadata": {
        "id": "qrWtMMx7fkqw"
      },
      "source": [
        "HALLO"
      ]
    },
    {
      "cell_type": "code",
      "metadata": {
        "id": "GVVnXsasZggF"
      },
      "source": [
        ""
      ],
      "execution_count": null,
      "outputs": []
    },
    {
      "cell_type": "code",
      "metadata": {
        "colab": {
          "base_uri": "https://localhost:8080/"
        },
        "id": "dVlgO_gaYFH-",
        "outputId": "d4dac8e5-e18e-4ed6-8853-9998aae569c4"
      },
      "source": [
        "print(model_path)\n",
        "os.path.getsize(model_path)\n"
      ],
      "execution_count": null,
      "outputs": [
        {
          "output_type": "stream",
          "text": [
            "/root/.fastai/models/uc?export=download&confirm=vviS&id=1igyV_79yez_JaEiP_yugtlbqE6rMi8TU\n"
          ],
          "name": "stdout"
        },
        {
          "output_type": "execute_result",
          "data": {
            "text/plain": [
              "37498"
            ]
          },
          "metadata": {
            "tags": []
          },
          "execution_count": 23
        }
      ]
    }
  ]
}
